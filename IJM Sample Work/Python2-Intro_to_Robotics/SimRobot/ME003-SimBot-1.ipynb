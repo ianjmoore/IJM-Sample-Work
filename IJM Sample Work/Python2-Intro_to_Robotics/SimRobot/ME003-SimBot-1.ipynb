{
 "cells": [
  {
   "cell_type": "markdown",
   "metadata": {},
   "source": [
    "# **SimBot-1 Notebook: Differential Drive Robots**\n",
    "***"
   ]
  },
  {
   "cell_type": "markdown",
   "metadata": {},
   "source": [
    "Differential Drive Robots (DDR) are based upon the concept that a robot with two opposing wheels and a simple DC motor for each wheel is all you need to control the simple movement of a robot in a 2D plane.<br>\n",
    "Now that we have covered the basics of Python, we will advance to simple exercises involving a simulated DDR. <br>\n",
    "In this course you will gain experience in coding for DDRs yet will not have to struggle with the challenging world of hardware and SSH connections to the RaspberryPi. The AlphaBot2 robot utilizing the RaspberryPi system is the robot for which we will be writing simulation code. \n",
    "#### **Figure 1:** Elevation view of the AlphaBot2 system<br>\n",
    "![](SimRobot_images/AlphaBot2_Elevation_View.png)\n",
    "#### **Figure 2:** Plan view of AlphaBot2 base \n",
    "![](SimRobot_images/AlphaBot2-Base-intro.jpg)\n",
    "#### **Table 1:** Base description\n",
    "![](SimRobot_images/AlphaBot2-Base-description.png)\n",
    "AlphaBot2 robot building kit for Raspberry Pi 3 Model B. (n.d.). Retrieved from https://www.waveshare.com/alphabot2-pi.htm"
   ]
  },
  {
   "cell_type": "markdown",
   "metadata": {},
   "source": [
    "The input used in this course is the Ultrasonic Ranging Sensor (URS) and the outputs are the two differential drive motors. As seen in Figure 2, the elements labeled \"10\" on the left-hand image are the differential drive motors.  <br>\n",
    "A URS is effectively a sonar sensor that sends an ultrasonic signal forward and picks up any waves that bounce backward off an object in front of the sensor. Based upon the duration of time from when the signal is sent to when a signal is received, the robot can determine the distance from the robot to an object due to the average speed of the sound waves.<br>\n",
    "Alphabot2 is a DDR: Two independent motors drive the left and right wheels and the differential speed between the two wheels control the speed and direction of the robot. As explained above, DDR is a system of two dual-directional DC motors mounted colinearly, mirrored about the forward-backward plane. Each motor can independently be turned either high or low (on or off). Does this provide every movement necessary to control the robot in a 2D plane?\n",
    "<br>\n",
    "<br>\n",
    "Yes! So let's get to it!"
   ]
  },
  {
   "cell_type": "markdown",
   "metadata": {},
   "source": [
    "# **SimBot-1 Notebook: Intro to Robot Classes and Methods**\n",
    "The SimBot-1 defines classes and methods to control and move a simulated AlphaBot2 (described above). <br>\n",
    "For this course we will learn what this SimBot-1 Notebook enables us to do with the AlphaBot2.  As mentioned in Intro Notebook 4, you can define your own classes and inside those classes define your own methods. By the end of this notebook you too will be writing code to drive the AlphaBot2. <br>\n",
    " Much of the code is originally sourced from http://enesbot.me/kinematic-model-of-a-differential-drive-robot.html \n"
   ]
  },
  {
   "cell_type": "markdown",
   "metadata": {},
   "source": [
    "The code in this notebook is more complex by nature of its objective. Some of the code is not required to understand the focus of this intro course - but it certainly wont hurt. There will be deliniation of expected understanding. In many cells, reading the doc string will often enable you to ascertain if it is necessary to understand that class, method etc. <br>\n",
    "***\n",
    "Not salient:"
   ]
  },
  {
   "cell_type": "code",
   "execution_count": 1,
   "metadata": {},
   "outputs": [],
   "source": [
    "\"\"\"Header cell, contains modules and functions to make the whole notebook experience better\"\"\"\n",
    "%matplotlib inline \n",
    "# plots graphs within the notebook\n",
    "\n",
    "from IPython.display import display,Image, Latex\n",
    "from sympy.interactive import printing\n",
    "printing.init_printing(use_latex='mathjax')\n",
    "from IPython.display import clear_output\n",
    "\n",
    "import time\n",
    "\n",
    "from IPython.display import display,Image, Latex\n",
    "\n",
    "from IPython.display import clear_output\n",
    "\n",
    "\n",
    "import matplotlib.pyplot as plt\n",
    "import numpy as np\n",
    "import math\n",
    "import scipy.constants as sc\n",
    "\n",
    "\n",
    "import sympy as sym\n",
    "\n",
    "    \n",
    "font = {'family' : 'serif',\n",
    "        #'color'  : 'black',\n",
    "        'weight' : 'normal',\n",
    "        'size'   : 12,\n",
    "        }\n",
    "fontlabel = {'family' : 'serif',\n",
    "        #'color'  : 'black',\n",
    "        'weight' : 'normal',\n",
    "        'size'   : 12,\n",
    "        }\n",
    "\n",
    "from matplotlib.ticker import FormatStrFormatter\n",
    "plt.rc('font', **font)\n",
    "\n",
    "class PDF(object):\n",
    "    \n",
    "    def __init__(self, pdf, size=(200,200)):\n",
    "        self.pdf = pdf\n",
    "        self.size = size\n",
    "    \n",
    "    def _repr_html_(self):\n",
    "        return '<iframe src={0} width={1[0]} height={1[1]}></iframe>'.format(self.pdf, self.size)\n",
    "    \n",
    "    def _repr_latex_(self):\n",
    "        return r'\\includegraphics[width=1.0\\textwidth]{{{0}}}'.format(self.pdf)\n",
    "\n",
    "class ListTable(list):\n",
    "    \"\"\" Overridden list class which takes a 2-dimensional list of \n",
    "        the form [[1,2,3],[4,5,6]], and renders an HTML Table in \n",
    "        IPython Notebook. \"\"\"\n",
    "    \n",
    "    def _repr_html_(self):\n",
    "        html = [\"<table>\"]\n",
    "        for row in self:\n",
    "            html.append(\"<tr>\")\n",
    "            \n",
    "            for col in row:\n",
    "                html.append(\"<td>{0}</td>\".format(col))\n",
    "            \n",
    "            html.append(\"</tr>\")\n",
    "        html.append(\"</table>\")\n",
    "        return ''.join(html)\n",
    "    "
   ]
  },
  {
   "cell_type": "markdown",
   "metadata": {},
   "source": [
    "## Objective\n",
    "This notebook focuses on the control of a simulated differential drive robot for prescribed simple tasks. \n",
    "\n",
    "## Theoretical Background\n",
    "\n",
    "The robot parameters are:\n",
    "<ul>\n",
    "    <li> Wheel radius: $r$. </li>\n",
    "    <li> Length between wheels: $L$ </li>\n",
    "    <li> Angular velocity of the left and right wheels: $\\omega_L$, $\\omega_R$, respectively.</li>\n",
    "    <li> Angle from horizontal: $\\alpha$.</li>\n",
    "    <li> Position vector of the robot: $(x,y)$.</li>\n",
    "    <li> Velocity vector of the robot: $V=(\\dot{x},\\dot{y})$.</li>\n",
    "</ul>\n",
    "\n",
    "Below is a diagram showing the nomenclature for the variables defined above: <br> \n",
    "\n",
    "<br>\n",
    "\n",
    "#### **Figure 3: Differential Drive Nomenclature**<br>\n",
    "\n",
    "![](SimRobot_images/DDR_terms.png)\n",
    "\n",
    "<!-- <img src=\"attachment:(SimRobot_images/DDR_terms.png)\" width=\"400\"> -->\n",
    "\n",
    "<br>\n",
    "Hereafter $\\dot{a}$ refers to the time derivative of variable $a$:\n",
    "<br>\n",
    "$$\n",
    "\\dot{a}=\\frac{da}{dt}\n",
    "$$\n",
    "<br>\n",
    "The velocities of the wheels are therefore defined as:\n",
    "<br>\n",
    "$$\n",
    "V_L=\\omega_Lr\\text{ and }V_R=\\omega_Rr\n",
    "$$\n",
    "<br>\n",
    "The velocity of the robot, taken at the center of the wheels, is simply:\n",
    "<br>\n",
    "$$\n",
    "\\vec{V}=\\frac{V_R+V_L}{2}(\\cos(\\alpha)\\vec{e}_x+\\sin(\\alpha\\vec{e}_y),\n",
    "$$\n",
    "<br>\n",
    "yielding the following equations of motions:\n",
    "<br>\n",
    "$$\n",
    "\\dot{x}=r\\frac{\\omega_R+\\omega_L}{2}\\cos{\\alpha}\n",
    "$$\n",
    "<br>\n",
    "$$\n",
    "\\dot{y}=r\\frac{\\omega_R+\\omega_L}{2}\\sin{\\alpha}\n",
    "$$\n",
    "<br>\n",
    "and\n",
    "<br>\n",
    "$$\n",
    "\\dot{\\alpha}=\\frac{r}{L}(\\omega_R-\\omega_L)\n",
    "$$\n",
    "<br>\n",
    "Numerically, these solutions of these equations requires their <b>discretization</b>. Remember that the derivative $\\frac{da}{dt}$ of a variable $a=f(t)$ is the slope $s$ of the local tangent. Over a small enough time interval $\\Delta t$, any continuous function $f$ can be approximated by a linear function based on the slope $a(t+\\Delta t) =a(t)+s(t)\\Delta t$. The derivative is then estimated as: <br>\n",
    "\n",
    "$$\n",
    "\\frac{da}{dt}\\approx\\frac{\\Delta a}{\\Delta t}\n",
    "$$\n",
    "<br>\n",
    "\n",
    "where $\\Delta a=a(t+\\Delta t$)-a(t). The discretized equations of motion may be recast as an integration of the trajectory of the robot:\n",
    "<br>\n",
    "\n",
    "$$\n",
    "x(t+\\Delta t) = x(t) +\\Delta t\\left(r\\frac{\\omega_R+\\omega_L}{2}\\cos{\\alpha}\\right),\n",
    "$$\n",
    "<br>\n",
    "\n",
    "$$\n",
    "y(t+\\Delta t) = y(t) +\\Delta t\\left(r\\frac{\\omega_R+\\omega_L}{2}\\sin{\\alpha}\\right),\n",
    "$$\n",
    "<br>\n",
    "\n",
    "$$\n",
    "\\alpha(t+\\Delta t) = \\alpha(t) +\\Delta t\\left(r\\frac{\\omega_R-\\omega_L}{L}\\right).\n",
    "$$\n",
    "\n",
    "As long as the <b>initial conditions</b> are prescribed at $t=0$, the motion of the robot is predictable providing that $\\Delta t $ is not too large, as we shall see later. The present discretization is the simplest one, and also the most rudimentary. Even though the above equations carry fairly large numerical errors, no robot is perfect and these numerical errors will not be discussed here.\n",
    "\n",
    "## Code description\n",
    "\n",
    "The cell below includes two classes, named Robot and DDRobot. Robot defines the robot dimensions, position variables ($x,y,\\alpha$), the time step $ \\Delta t $, the left/right angular velocities and various functions necessary to integrate the robot motion.<br> DDRobot handles much of the movement of the robot through methods which call initialization objects defined in the Robot class. DDRobot is the main class while Robot is effectively created within class DDRobot as many of the methods from Robot class are called within DDRobot class. \n",
    "<br>\n",
    "<br>\n",
    "Read carefully through the following extensively commented cell to learn the Robot and DDRobot classes:"
   ]
  },
  {
   "cell_type": "code",
   "execution_count": 3,
   "metadata": {},
   "outputs": [],
   "source": [
    "import matplotlib.pyplot as plt #enables plotting capabilities for the robot\n",
    "                                #for this case this is the OUTPUT as the whole \n",
    "                                #robot is simulated through this notebook\n",
    "import numpy as np #Numerical Python library as described in the Intro Python Notebook\n",
    "import math #math module \n",
    "import scipy.constants as sc #shortcut for physical and mathematical constants \n",
    "                             #and units\n",
    "import sympy as sym #SymPy is a Python library for symbolic mathematics\n",
    "\n",
    "from math import sin, cos\n",
    "\n",
    "class Robot(object):\n",
    "    \"\"\"Defines basic mobile robot properties. Defines __init__, step, print_xya, and \n",
    "    plot_robot methods. Is called in the main class of DDRobot.\"\"\"\n",
    "    def __init__(self):\n",
    "        #initialization class. \n",
    "        self.pos_x  = 0.0 #placing bot at origin: (x,y) = (0,0)\n",
    "        self.pos_y  = 0.0 \n",
    "        self.angle  = 0.0 # IN RAD setting alpha = 0\n",
    "        self.plot   = False #intializing no plot to show\n",
    "        self._delta = 0.01 #\n",
    "        self.step_plot = int(8) #plotting every 5 iterations\n",
    "        self.mag_plot = 1.5 # arrow magnification\n",
    "\n",
    "    # Movement\n",
    "    def step(self):\n",
    "        \"\"\" updates the x,y and alpha \"\"\"\n",
    "        self.deltax()\n",
    "        self.deltay()\n",
    "        self.deltaa()\n",
    "\n",
    "    def move(self, seconds):\n",
    "        \"\"\" Moves the robot for an 's' amount of seconds. Takes argument of seconds as type \n",
    "        int\"\"\"\n",
    "        for i in range(int(seconds/self._delta)):\n",
    "            self.step()\n",
    "            if i % self.step_plot == 0 and self.plot: # plot path every 5 steps\n",
    "                self.plot_xya() #plots a dot in the position of the robot \n",
    "\n",
    "    # Printing-and-plotting:\n",
    "    def print_xya(self):\n",
    "        \"\"\" prints the x,y position and angle \"\"\"\n",
    "        print (\"x = \" + str(self.pos_x) +\" \"+ \"y = \" + str(self.pos_y))\n",
    "        print (\"a = \" + str(self.angle))\n",
    "        \n",
    "    def plot_robot(self):\n",
    "        \"\"\" plots an arrow representation of the robot. \"\"\"\n",
    "        plt.arrow(self.pos_x, self.pos_y, 0.001\n",
    "                  * cos(self.angle), 0.001 * sin(self.angle),\n",
    "                  head_width=self.mag_plot*self.length, head_length=self.mag_plot*self.length,\n",
    "                  fc='k', ec='k')\n",
    "\n",
    "    def plot_xya(self):\n",
    "        \"\"\" plots a dot in the position of the robot \"\"\"\n",
    "        plt.scatter(self.pos_x, self.pos_y, c='r', edgecolors='r')\n",
    "\n",
    "\n",
    "class DDRobot(Robot):\n",
    "    \"\"\"Defines a differential drive robot. Is the main class. Moves the robot. \n",
    "    Class Robot is effectively created within class DDRobot as many of the \n",
    "    methods from Robot class are called within DDRobot class.\"\"\"\n",
    "    \n",
    "    def __init__(self):\n",
    "        \"\"\"__init__ : Initialization class (for DDRobot class)\"\"\"\n",
    "        Robot.__init__(self)\n",
    "        self.radius = 0.1 #radius of bot wheel as defined in Fig 3\n",
    "        self.length = 0.4 #length between bot wheels as defined in Fig 3\n",
    "        self.rt_spd_left = 0.0 #initializing rotation speed, left wheel to 0\n",
    "        self.rt_spd_right = 0.0 #initializing rotation speed, right wheel to 0\n",
    "\n",
    "    def deltax(self):\n",
    "        \"\"\" update x position depending on L and R angular speeds \"\"\"\n",
    "        self.pos_x += self._delta * (self.radius*0.5) \\\n",
    "        * (self.rt_spd_right + self.rt_spd_left)*cos(self.angle)\n",
    "\n",
    "    def deltay(self):\n",
    "        \"\"\" update y position depending on l and r angular speeds \"\"\"\n",
    "        self.pos_y += self._delta * (self.radius*0.5) \\\n",
    "        * (self.rt_spd_right + self.rt_spd_left)*sin(self.angle)\n",
    "\n",
    "    def deltaa(self):\n",
    "        \"\"\" update angle depending on l and r angular speeds \"\"\"\n",
    "        self.angle += self._delta * (self.radius/self.length) \\\n",
    "        * (self.rt_spd_right - self.rt_spd_left)\n",
    "\n",
    "def D2R(a):\n",
    "    \"\"\"function to convert degrees to radians. Takes single argument of degrees.\"\"\"\n",
    "    return float(((math.pi)*float(a))/180.0)\n",
    "def R2D(a):\n",
    "    \"\"\"Function to convert radians to degrees. Takes single argument of radians.\"\"\"\n",
    "    return float((180.0*float(a)/(math.pi)))\n",
    "\n"
   ]
  },
  {
   "cell_type": "markdown",
   "metadata": {},
   "source": [
    "### Deriving time required to make a turn of a specified angle:\n",
    "$\\bar{\\omega}$ (average angular velocity), is equal to: $\\bar{\\omega} = \\frac{\\Delta \\Theta}{\\Delta t}$ where $\\Delta \\Theta$ is change in angle, and $\\Delta t$ is change in time. As we are specifying the $\\Theta$ and and $\\bar{\\omega}$ of the turn, we can solve for the time required and then derive a relation for the exact time needed for the robot to achieve a rotation of a given angle around its center.<br>\n",
    "$V = \\frac{\\omega}{t}$<br>\n",
    "Solving for $t$:<br>\n",
    "$t = \\frac{\\omega}{V}$ <br>\n",
    "<br>\n",
    "\n",
    "$t = \\frac{\\theta}{\\frac{\\pi}{2}{0.63}}$\n",
    "<br>\n",
    "<br>\n",
    "![](SimRobot_images/angular_vel.png)"
   ]
  },
  {
   "cell_type": "markdown",
   "metadata": {},
   "source": [
    "## DDR Movement Commands:"
   ]
  },
  {
   "cell_type": "markdown",
   "metadata": {},
   "source": [
    "To efficiently repeatedly call a class, one should use object instantiation as explained in Notebook 4. The following cell screenshot shows the object instantiation of the DDRobot class under the object name mybot: <br>\n",
    "(If another class had been instantiated to the object mybot, it would have been overridden by this new class object instantiation)"
   ]
  },
  {
   "cell_type": "code",
   "execution_count": 4,
   "metadata": {},
   "outputs": [],
   "source": [
    "# object instantiation\n",
    "mybot = DDRobot() # instantiating/creating an object instance of the DDRobot() class \n",
    "                    # enables methods to be passed to the Robot and DDRobot classes as objects"
   ]
  },
  {
   "cell_type": "markdown",
   "metadata": {},
   "source": [
    "For simplicity, assume that all units are based on the metric system. Your new robot, <FONT FACE=\"courier\" style=\"color:blue\">mybot</FONT>, is by default located at $(x=0,y=0)$, its angle from the horizontal axis $x$ is $0$ and the wheel radius and length between wheel are $r=0.1$m and $L=0.4$m (see class <FONT FACE=\"courier\" style=\"color:blue\">DDRobot</FONT>). The default time step is $\\Delta t=0.01$s. All these variables and more can be easily customized to your problem:"
   ]
  },
  {
   "cell_type": "code",
   "execution_count": 5,
   "metadata": {},
   "outputs": [],
   "source": [
    "#object instantiation\n",
    "mybot = DDRobot() \n",
    "mybot.pos_x = 0 #x\n",
    "mybot.pos_y = 0 #y\n",
    "mybot.angle = D2R(45) #alpha\n",
    "mybot.length =0.4 #L\n",
    "mybot.radius = 0.1 #r\n",
    "mybot.rt_spd_left = 10 # omega_L\n",
    "mybot.rt_spd_right = 10 # omega_R"
   ]
  },
  {
   "cell_type": "markdown",
   "metadata": {},
   "source": [
    "#### Ex: Drive DDR in a straight line:\n",
    "In simplest terms to move a DDR, you initialize each motor at a specified power and then pass the mybot.move(seconds) command. <br>\n",
    "For a straight line you set each motor at equal power, and for a turn at unequal power. \n",
    "<br>\n",
    "We will step through the commands required to execute a straight line in the following extensively commented cell. <br>"
   ]
  },
  {
   "cell_type": "code",
   "execution_count": 6,
   "metadata": {},
   "outputs": [
    {
     "data": {
      "image/png": "[encoded data removed]",
      "text/plain": [
       "<Figure size 432x288 with 1 Axes>"
      ]
     },
     "metadata": {
      "needs_background": "light"
     },
     "output_type": "display_data"
    }
   ],
   "source": [
    "# object instantiation\n",
    "mybot = DDRobot()             # creating an instance of DDRobot() enables methods to be passed to the \n",
    "                              #    Robot and DDRobot classes as objects\n",
    "# initialization block as mentioned above\n",
    "mybot.pos_x = 5               # calling pos_x method to set x initial position - in center of plot\n",
    "mybot.pos_y = 5               # calling pos_y method to set y initial position - in center of plot\n",
    "mybot.angle = 0               # initial starting direction: 0 radians from horizontal\n",
    "mybot.plot = True             # turning on plot\n",
    "mybot.mag_plot = 1.5          # coefficient of magnification of the arrow\n",
    "mybot.step_plot = 20          # plotting robot's path as dots \n",
    "mybot.plot_robot()            # plotting the robot!\n",
    "\n",
    "# movement block\n",
    "mybot.rt_spd_left = 10        # setting rotational speed of left motor to 10\n",
    "mybot.rt_spd_right = 10       # setting rotational speed of right motor to 10\n",
    "mybot.move(4)                 # move for 4 seconds at set specifications\n",
    "\n",
    "#resizing plot block\n",
    "mybot.plot_robot()            # plotting robot's movement \n",
    "plt.xlim([0, 10])             # axis limits\n",
    "plt.ylim([0, 10])\n",
    "plt.rcParams[\"figure.figsize\"] = (10,10) # forcing a square shape for plot\n",
    "plt.show()                    # plotting full course of robots path "
   ]
  },
  {
   "cell_type": "markdown",
   "metadata": {},
   "source": [
    "You may change the size of the arrow and the spacing of the dots tracing the trajectory using the mag_plot and step_plot attributes:<br>\n",
    "![](SimRobot_images/mag_plot,step_plot.png)"
   ]
  },
  {
   "cell_type": "code",
   "execution_count": 7,
   "metadata": {},
   "outputs": [
    {
     "data": {
      "image/png": "[encoded data removed]",
      "text/plain": [
       "<Figure size 720x720 with 1 Axes>"
      ]
     },
     "metadata": {
      "needs_background": "light"
     },
     "output_type": "display_data"
    }
   ],
   "source": [
    "# object instantiation\n",
    "mybot = DDRobot()             # creating an instance of DDRobot() enables methods to be passed to the Robot and DDRobot classes as objects\n",
    "# initialization block as mentioned above\n",
    "mybot.pos_x = 5               # calling pos_x method to set x initial position - in center of plot\n",
    "mybot.pos_y = 5               # calling pos_y method to set y initial position - in center of plot\n",
    "mybot.angle = 0               # initial starting direction: 0 radians from horizontal\n",
    "mybot.plot = True             # turning on plot\n",
    "\n",
    "mybot.mag_plot = 3          # coefficient of magnification of the arrow\n",
    "mybot.step_plot = 50          # plotting robot's path as dots \n",
    "\n",
    "mybot.plot_robot()            # plotting robot's movement \n",
    "# movement block\n",
    "mybot.rt_spd_left = 10        # setting rotational speed of left motor to 10\n",
    "mybot.rt_spd_right = 10       # setting rotational speed of right motor to 10\n",
    "mybot.move(4)                 # move for 4 seconds at set specifications\n",
    "#resizing plot block\n",
    "mybot.plot_robot()            # plotting robot's movement \n",
    "plt.xlim([0, 10])             # axis limits\n",
    "plt.ylim([0, 10])\n",
    "plt.rcParams[\"figure.figsize\"] = (10,10) # forcing a square shape for plot\n",
    "plt.show()                    # plotting full course of robots path "
   ]
  },
  {
   "cell_type": "markdown",
   "metadata": {},
   "source": [
    "### **Q1: Executing a turn:** Make a turn for 3 seconds using the above code as a framework:"
   ]
  },
  {
   "cell_type": "code",
   "execution_count": 8,
   "metadata": {},
   "outputs": [],
   "source": [
    "#your code here:"
   ]
  },
  {
   "cell_type": "markdown",
   "metadata": {},
   "source": [
    "### Now completing a full rotation:\n",
    "We steped through the commands required to execute a straight line in the previous exercise and you just completed a turn for 3 seconds.<br>\n",
    "As you likely discovered, to execute a turn with a DDR, the left and right angular velocities, $\\omega_{L}$ and $\\omega_{R}$ must be different. Therefore the only difference from a straight line in the code is to change one motor's power initialization setting to create an imballance in power applied to the bot.<br>\n",
    "<br>\n",
    "We will now derive the time, $t$ needed to turn the robot an angle $\\alpha_o$ at given rotation speed $\\omega_L$ and $\\omega_R$ and robot dimensions $r$ and $L$. This equation starts by intergrating the robot angle equation above:\n",
    "\n",
    "$$\n",
    "\\dot{\\alpha}=\\frac{d\\alpha}{dt}=\\frac{r}{L}(\\omega_R-\\omega_L)\n",
    "$$\n",
    "\n",
    "from $0$ to a time $t$ yields\n",
    "\n",
    "$$\n",
    "\\int_0^t\\frac{d\\alpha}{dt}dt=\\int_0^t\\frac{r}{L}(\\omega_R-\\omega_L)dt\n",
    "$$\n",
    "\n",
    "Since the left hand side function is constant with respect to time, the result is simply:\n",
    "\n",
    "$$\n",
    "\\alpha(t) - \\alpha(0) =tr\\frac{\\omega_R-\\omega_L}{L}\n",
    "$$\n",
    "\n",
    "Therefore the time to execute a rotation of angle $\\alpha_o=\\alpha(t) - \\alpha(0)$ is\n",
    "\n",
    "$$\n",
    "t = \\frac{\\alpha_oL}{r(\\omega_R-\\omega_L)} \\;\\;\\;\\mathrm{Eq. Time\\,of\\,Turn}\n",
    "$$\n",
    "<br>\n",
    "We will now implement the Time of Turn equation in the following cell: "
   ]
  },
  {
   "cell_type": "code",
   "execution_count": 9,
   "metadata": {},
   "outputs": [
    {
     "data": {
      "image/png": "[encoded data removed]",
      "text/plain": [
       "<Figure size 720x720 with 1 Axes>"
      ]
     },
     "metadata": {
      "needs_background": "light"
     },
     "output_type": "display_data"
    }
   ],
   "source": [
    "#object instantiation\n",
    "mybot = DDRobot()               # enables methods to be passed to the Robot and DDRobot classes as objects\n",
    "#initialization block\n",
    "mybot.pos_x = 5              # calling pos_x method to set x initial position - in center of plot\n",
    "mybot.pos_y = 5              # calling pos_y method to set y initial position - in center of plot\n",
    "mybot.angle = float(D2R(0))  # initial starting direction: 0 radians\n",
    "mybot.plot = True            # turning on plot\n",
    "mybot.mag_plot = 1           # coefficient of magnification of the arrow\n",
    "mybot.step_plot = 20\n",
    "mybot.plot_robot()           # plotting the robot!\n",
    "\n",
    "#movement block: \n",
    "a_t = D2R(360)\n",
    "mybot.rt_spd_left = 4*math.pi \n",
    "mybot.rt_spd_right = 6*math.pi\n",
    "# Time of Turn eq:\n",
    "t = ((a_t - mybot.angle)*mybot.length)/(mybot.radius*(mybot.rt_spd_right - mybot.rt_spd_left))\n",
    "mybot.move(t)                 # move for t seconds\n",
    "\n",
    "#plotting block\n",
    "mybot.plot_robot()            # plot robot's entire path\n",
    "plt.xlim([0, 10])             # axis limits\n",
    "plt.ylim([0, 10])\n",
    "plt.rcParams[\"figure.figsize\"] = (10,10) # forcing size as square\n",
    "plt.show()"
   ]
  },
  {
   "cell_type": "markdown",
   "metadata": {},
   "source": [
    "### **Q2: Square:** Now that you have completed a straight line and a turn, you have all the components to complete a square. Synthesize the two blocks of code to transcribe a square:"
   ]
  },
  {
   "cell_type": "code",
   "execution_count": 10,
   "metadata": {},
   "outputs": [],
   "source": [
    "#your code here:"
   ]
  },
  {
   "cell_type": "markdown",
   "metadata": {},
   "source": [
    "#### Ex: Repeated Code Block: Hexagon: \n",
    "Below is a demonstration on how to make a hexagon via two repeated code blocks:"
   ]
  },
  {
   "cell_type": "code",
   "execution_count": 11,
   "metadata": {},
   "outputs": [
    {
     "data": {
      "image/png": "[encoded data removed]",
      "text/plain": [
       "<Figure size 720x720 with 1 Axes>"
      ]
     },
     "metadata": {
      "needs_background": "light"
     },
     "output_type": "display_data"
    }
   ],
   "source": [
    "#object instantiation\n",
    "mybot = DDRobot()             # enables methods to be passed to the Robot and DDRobot classes as objects\n",
    "\n",
    "#initialization block\n",
    "mybot.pos_x = 10               # calling pos_x method to set x initial position - in center of plot\n",
    "mybot.pos_y = 10               # calling pos_y method to set y initial position - in center of plot\n",
    "mybot.angle = D2R(0)         # initial starting direction: 0 rad\n",
    "mybot.plot = True             # turning on plot\n",
    "mybot.mag_plot = 1           # coefficient of magnification of the arrow\n",
    "mybot.step_plot = 20\n",
    "mybot.plot_robot()            # plotting the robot!\n",
    "\n",
    "#movement block: \n",
    "    #1 side\n",
    "#forward\n",
    "mybot.rt_spd_left = 10\n",
    "mybot.rt_spd_right = 10\n",
    "mybot.move(3)\n",
    "#turn\n",
    "a_t = D2R(60)\n",
    "mybot.rt_spd_left = 4*math.pi \n",
    "mybot.rt_spd_right = 6*math.pi\n",
    "# Time of Turn eq:\n",
    "t = ((a_t - 0)*mybot.length)/(mybot.radius*(mybot.rt_spd_right - mybot.rt_spd_left))\n",
    "mybot.move(t)                 # move for t seconds\n",
    "\n",
    "    #1 side\n",
    "#forward\n",
    "mybot.rt_spd_left = 10\n",
    "mybot.rt_spd_right = 10\n",
    "mybot.move(3)\n",
    "#turn\n",
    "mybot.rt_spd_left = 4*math.pi \n",
    "mybot.rt_spd_right = 6*math.pi\n",
    "# Time of Turn eq:\n",
    "t = ((a_t - 0)*mybot.length)/(mybot.radius*(mybot.rt_spd_right - mybot.rt_spd_left))\n",
    "mybot.move(t)                 # move for t seconds\n",
    "\n",
    "    #1 side\n",
    "#forward\n",
    "mybot.rt_spd_left = 10\n",
    "mybot.rt_spd_right = 10\n",
    "mybot.move(3)\n",
    "#turn\n",
    "mybot.rt_spd_left = 4*math.pi \n",
    "mybot.rt_spd_right = 6*math.pi\n",
    "# Time of Turn eq:\n",
    "t = ((a_t - 0)*mybot.length)/(mybot.radius*(mybot.rt_spd_right - mybot.rt_spd_left))\n",
    "mybot.move(t)                 # move for t seconds\n",
    "\n",
    "    #1 side\n",
    "#forward\n",
    "mybot.rt_spd_left = 10\n",
    "mybot.rt_spd_right = 10\n",
    "mybot.move(3)\n",
    "#turn\n",
    "mybot.rt_spd_left = 4*math.pi \n",
    "mybot.rt_spd_right = 6*math.pi\n",
    "# Time of Turn eq:\n",
    "t = ((a_t - 0)*mybot.length)/(mybot.radius*(mybot.rt_spd_right - mybot.rt_spd_left))\n",
    "mybot.move(t)                 # move for t seconds\n",
    "\n",
    "    #1 side\n",
    "#forward\n",
    "mybot.rt_spd_left = 10\n",
    "mybot.rt_spd_right = 10\n",
    "mybot.move(3)\n",
    "#turn\n",
    "mybot.rt_spd_left = 4*math.pi \n",
    "mybot.rt_spd_right = 6*math.pi\n",
    "# Time of Turn eq:\n",
    "t = ((a_t - 0)*mybot.length)/(mybot.radius*(mybot.rt_spd_right - mybot.rt_spd_left))\n",
    "mybot.move(t)                 # move for t seconds\n",
    "\n",
    "    #1 side\n",
    "#forward\n",
    "mybot.rt_spd_left = 10\n",
    "mybot.rt_spd_right = 10\n",
    "mybot.move(3)\n",
    "#turn\n",
    "mybot.rt_spd_left = 4*math.pi \n",
    "mybot.rt_spd_right = 6*math.pi\n",
    "# Time of Turn eq:\n",
    "t = ((a_t - 0)*mybot.length)/(mybot.radius*(mybot.rt_spd_right - mybot.rt_spd_left))\n",
    "mybot.move(t)                 # move for t seconds\n",
    "\n",
    "#plotting block\n",
    "mybot.plot_robot()            # plot robot's entire path\n",
    "plt.xlim([0, 20])             # axis limits\n",
    "plt.ylim([0, 20])\n",
    "plt.rcParams[\"figure.figsize\"] = (20,20) # forcing size as square\n",
    "plt.show()"
   ]
  },
  {
   "cell_type": "markdown",
   "metadata": {},
   "source": [
    "## Coding Optimization:\n",
    "While we can see in the previous example how differential drive robots work on the most elementary level, we can also see the glaring inefficiency of this process. <br>\n",
    "For this example problem we will focus on two classic ways to increase the efficiency and decrease the number of lines of code required for the same operation: <br>\n",
    "1. for loop the action commands\n",
    "2. define methods for specific actions <br>\n",
    "\n",
    "We will first focus on the for loop option:"
   ]
  },
  {
   "cell_type": "markdown",
   "metadata": {},
   "source": [
    "### **Q3: For loop:** Instead of repeating the two blocks of code 6 times, write a for loop to transcribe a hexagon using the movement block:\n",
    "If you need a refresher on for loops review Intro Notebook 3."
   ]
  },
  {
   "cell_type": "code",
   "execution_count": 12,
   "metadata": {},
   "outputs": [],
   "source": [
    "#your code here:"
   ]
  },
  {
   "cell_type": "markdown",
   "metadata": {},
   "source": [
    "<br>"
   ]
  },
  {
   "cell_type": "markdown",
   "metadata": {},
   "source": [
    "### **object.method(argument)** Optimization: \n",
    "Now that you have seen how a for loop can greatly reduce required lines of code for the same task, we will look at an even more powerful tool: **object.method(argument)**<br>\n",
    "As you saw in the definition of the Robot and DDRobot classes, and their use in nearly every cell since, use of **object.method(argument)** enables a user to set attributes and use methods attached to an object while not requiring their redefinition for each cell. While this is one great use of object instantiation, we are about to discover yet another powerful use for classes. <br>\n",
    "<br>\n",
    "Look at the previous example: Repeated Code Block: Hexagon. The repetition in the movement block immediately jumps out: \n",
    "![](SimRobot_images/Movement_block.png)<br>\n",
    "<br>\n",
    "These two blocks are perfect candidates for truncation into two separate methods: <br>\n",
    "\"**turn_left()**\", and \"**forward()**\". Of course a third method, \"**turn_right()**\" will also be defined as the opposite of \"**turn_left()**\". <br>\n",
    "\n",
    "Classes and more specifically methods are an excellent application for reusing specific commands with changing arguments and even objects. We will now walk you through defining our own class and methods. <br>\n",
    "**The objective of this class and it's methods are to** create callable **object.method(argument)** combinations that execute turns, and forward actions in one line of code. We will now create these methods as an addition to the DDRobot class:<br>\n",
    "<br>\n",
    "This class will be called \"Turn\" and have three methods: **object.turn_right(a_R)** , **object.turn_left(a_L)** , and **object.forward(f_time)** . <br>\n",
    "This class and its corresponding methods can be seen in the screenshot below:<br>\n",
    "<br>\n",
    "![](SimRobot_images/Turn_class.png)\n",
    "<br>\n",
    "<br>\n",
    "Take note how the input lines *a_R, a_L and f_time* for *turn_right, turn_left and forward* respectively have been commented out. This is done so input is not required each time the method is called i.e. in a for loop with n iterations. Therefore it is imperative to insert the following lines in the initialization block of your answer (before the method is called) to avoid causing errors (left turn angle variable shown):<br>\n",
    "<br>\n",
    "![](SimRobot_images/Turn_left.png)<br>\n",
    "<br>\n",
    "As these variables in the previous screenshot are defined in a cell and attached to an object instance mybot of the class Turn, they are called local variables. This means they won't change during iterations in the cell but will change from cell to cell i.e. they are not global variables. This prevents overwriting if you were using the same commands with a different object i.e. otherbot.a_L . If you wished to have a variable saved from cell to cell it is easy enough to assign that variable to be global as shown in the following screenshot: <br>\n",
    "<br>\n",
    "![](SimRobot_images/Global_var.png)<br>\n",
    "<br>\n",
    "<br>\n",
    "### In the cell below, the Turn class has been created for the three turning methods: **turn_right()**, **turn_left()** and **forward()**. <br>These have been defined in the Turn class at the bottom of the cell. Take note of these additions and run the cell:\n",
    "<br>\n",
    "<br>"
   ]
  },
  {
   "cell_type": "code",
   "execution_count": 13,
   "metadata": {},
   "outputs": [],
   "source": [
    "import matplotlib.pyplot as plt #enables plotting capabilities for the robot\n",
    "                                #for this case this is the OUTPUT as the whole \n",
    "                                #robot is simulated through this notebook\n",
    "import numpy as np #Numerical Python library as described in the Intro Python Notebook\n",
    "import math #math module \n",
    "import scipy.constants as sc #shortcut for physical and mathematical constants \n",
    "                             #and units\n",
    "import sympy as sym #SymPy is a Python library for symbolic mathematics\n",
    "\n",
    "from math import sin, cos\n",
    "\n",
    "class Robot(object):\n",
    "    \"\"\"Defines basic mobile robot properties. Defines __init__, step, print_xya, and \n",
    "    plot_robot methods. Is called in the main class of DDRobot.\"\"\"\n",
    "    def __init__(self):\n",
    "        #initialization class. \n",
    "        self.pos_x  = 0.0 #placing bot at origin: (x,y) = (0,0)\n",
    "        self.pos_y  = 0.0 \n",
    "        self.angle  = 0.0 # IN RAD setting alpha = 0\n",
    "        self.plot   = False #intializing no plot to show\n",
    "        self._delta = 0.01 #\n",
    "        self.step_plot = int(5) #plotting every 5 iterations\n",
    "        self.mag_plot = 1.5 # arrow magnification\n",
    "\n",
    "    # Movement\n",
    "    def step(self):\n",
    "        \"\"\" updates the x,y and alpha \"\"\"\n",
    "        self.deltax()\n",
    "        self.deltay()\n",
    "        self.deltaa()\n",
    "\n",
    "    def move(self, seconds):\n",
    "        \"\"\" Moves the robot for an 's' amount of seconds. Takes argument of seconds as type \n",
    "        int\"\"\"\n",
    "        for i in range(int(seconds/self._delta)):\n",
    "            self.step()\n",
    "            if i % self.step_plot == 0 and self.plot: # plot path every 5 steps\n",
    "                self.plot_xya() #plots a dot in the position of the robot \n",
    "\n",
    "    # Printing-and-plotting:\n",
    "    def print_xya(self):\n",
    "        \"\"\" prints the x,y position and angle \"\"\"\n",
    "        print (\"x = \" + str(self.pos_x) +\" \"+ \"y = \" + str(self.pos_y))\n",
    "        print (\"a = \" + str(self.angle))\n",
    "        \n",
    "    def plot_robot(self):\n",
    "        \"\"\" plots an arrow representation of the robot. \"\"\"\n",
    "        plt.arrow(self.pos_x, self.pos_y, 0.001\n",
    "                  * cos(self.angle), 0.001 * sin(self.angle),\n",
    "                  head_width=self.mag_plot*self.length, head_length=self.mag_plot*self.length,\n",
    "                  fc='k', ec='k')\n",
    "\n",
    "    def plot_xya(self):\n",
    "        \"\"\" plots a dot in the position of the robot \"\"\"\n",
    "        plt.scatter(self.pos_x, self.pos_y, c='r', edgecolors='r')\n",
    "\n",
    "\n",
    "class DDRobot(Robot):\n",
    "    \"\"\"Defines a differential drive robot. Helps move the robot. \n",
    "    Class Robot is effectively created within class DDRobot as many of the \n",
    "    methods from Robot class are called within DDRobot class.\"\"\"\n",
    "    \n",
    "    def __init__(self):\n",
    "        \"\"\"__init__ : Initialization class (for DDRobot class)\"\"\"\n",
    "        Robot.__init__(self)\n",
    "        self.radius = 0.1 #radius of bot wheel as defined in Fig 3\n",
    "        self.length = 0.4 #length between bot wheels as defined in Fig 3\n",
    "        self.rt_spd_left = 0.0 #initializing rotation speed, left wheel to 0\n",
    "        self.rt_spd_right = 0.0 #initializing rotation speed, right wheel to 0\n",
    "\n",
    "    def deltax(self):\n",
    "        \"\"\" update x position depending on L and R angular speeds \"\"\"\n",
    "        self.pos_x += self._delta * (self.radius*0.5) \\\n",
    "        * (self.rt_spd_right + self.rt_spd_left)*cos(self.angle)\n",
    "\n",
    "    def deltay(self):\n",
    "        \"\"\" update y position depending on l and r angular speeds \"\"\"\n",
    "        self.pos_y += self._delta * (self.radius*0.5) \\\n",
    "        * (self.rt_spd_right + self.rt_spd_left)*sin(self.angle)\n",
    "\n",
    "    def deltaa(self):\n",
    "        \"\"\" update angle depending on l and r angular speeds \"\"\"\n",
    "        self.angle += self._delta * (self.radius/self.length) \\\n",
    "        * (self.rt_spd_right - self.rt_spd_left)\n",
    "        \n",
    "        ### Turning Methods: \n",
    "        \n",
    "class Turn(DDRobot):\n",
    "    \"\"\"Defines methods that move robot with fewer lines of code by defining specific actions into methods. \n",
    "    Calls DDRobot and its methods\"\"\"\n",
    "    def __init__(self):\n",
    "        \"\"\"Initializes Turn class with DDRobot class object\"\"\"\n",
    "        DDRobot.__init__(self)\n",
    "        \n",
    "    def turn_right(self,a_R):\n",
    "        \"\"\"Turns mybot a specified angle to the right. Args: R, desired angle of turn to Right \"\"\"\n",
    "            # takes input of degrees, converts to Radians\n",
    "#         a_R = D2R(float(input(\"Enter the desired angle of rotation to the right (in degrees): \"))) \n",
    "        self.rt_spd_left = 6*math.pi # initializing left rotational speed at 4*pi\n",
    "        self.rt_spd_right = 4*math.pi # initializing left rotational speed at 6*pi\n",
    "        t = ((a_R - 0)*mybot.length)/(mybot.radius*(mybot.rt_spd_left - mybot.rt_spd_right))\n",
    "        # Time of Turn eq:\n",
    "        self.move(t) # move for t seconds\n",
    "\n",
    "    def turn_left(self,a_L):\n",
    "        \"\"\"Turns mybot a specified angle to the left. Args: L, desired angle of turn Left \"\"\"\n",
    "            # takes input of degrees, converts to Radians\n",
    "#         a_L = D2R(float(input(\"Enter the desired angle of rotation to the left (in degrees): \"))) \n",
    "        self.rt_spd_left = 4*math.pi # initializing left rotational speed at 4*pi\n",
    "        self.rt_spd_right = 6*math.pi # initializing left rotational speed at 6*pi\n",
    "        t = ((a_L - 0)*mybot.length)/(mybot.radius*(mybot.rt_spd_right - mybot.rt_spd_left))\n",
    "        # Time of Turn eq:s\n",
    "        self.move(t) # move for t seconds\n",
    "\n",
    "    def forward(self,f_time):\n",
    "        \"\"\"Drives robot straight ahead for specified amount of time. Takes argument of f_time in seconds\"\"\"\n",
    "#         f_time = int(input(\"Enter the desired time to move forward: \"))\n",
    "        self.rt_spd_left = 10\n",
    "        self.rt_spd_right = 10\n",
    "        self.move(f_time)\n",
    "\n",
    "\n",
    "def D2R(a):\n",
    "    \"\"\"function to convert degrees to radians. Takes single argument of degrees.\"\"\"\n",
    "    return (math.pi*a)/180\n",
    "def R2D(a):\n",
    "    \"\"\"Function to convert radians to degrees. Takes single argument of radians.\"\"\"\n",
    "    return 180*a/math.pi\n",
    "\n"
   ]
  },
  {
   "cell_type": "markdown",
   "metadata": {},
   "source": [
    "### **Q4: Use turn and forward methods to complete a hexagon using a for loop:**\n",
    "We have completed a for loop for a hexagon, and now defined methods for completing turns of user inputted angles and forward motion for user inputted time. <br>\n",
    "Synthesize the code required to **take user input for number of desired sides, side length, then complete a hexagon using a for loop and plot its course, using mybot as the object, and the forward(), turn_right() or turn_left() methods.** You are welcome to use the initialization and plotting code blocks from previous exercises. "
   ]
  },
  {
   "cell_type": "code",
   "execution_count": 14,
   "metadata": {},
   "outputs": [],
   "source": [
    "#your code here:"
   ]
  },
  {
   "cell_type": "markdown",
   "metadata": {},
   "source": [
    "### **Q5: n Sided Polygon *for* loop:** Write a script using a *for* loop and the turning methods that transcribes a polygon with n number of sides:"
   ]
  },
  {
   "cell_type": "code",
   "execution_count": 15,
   "metadata": {},
   "outputs": [],
   "source": [
    "#your code here:"
   ]
  },
  {
   "cell_type": "markdown",
   "metadata": {},
   "source": [
    "### **Q6: n Sided Polygon *while* loop:** Write a script using a *while* loop and the turning methods that transcribes a polygon with n number of sides, this time with **local variables**:\n",
    "The body of the code can be reused from question 5 but **use local variales** if you haven't already. You must replace the for loop structure with a while loop and it's necessary commands. "
   ]
  },
  {
   "cell_type": "code",
   "execution_count": 16,
   "metadata": {},
   "outputs": [],
   "source": [
    "#your code here:"
   ]
  },
  {
   "cell_type": "markdown",
   "metadata": {},
   "source": [
    "# Congratulations! \n",
    "You have completed SimBot-1 Notebook! You now know how to write a class, methods and attributes for a Differential Drive Robot. You are now ready to move onto SimRobot-2 Notebook: Sensor Input and Output for the AlphaBot2!"
   ]
  },
  {
   "cell_type": "code",
   "execution_count": null,
   "metadata": {},
   "outputs": [],
   "source": []
  }
 ],
 "metadata": {
  "kernelspec": {
   "display_name": "Python 3",
   "language": "python",
   "name": "python3"
  },
  "language_info": {
   "codemirror_mode": {
    "name": "ipython",
    "version": 3
   },
   "file_extension": ".py",
   "mimetype": "text/x-python",
   "name": "python",
   "nbconvert_exporter": "python",
   "pygments_lexer": "ipython3",
   "version": "3.6.8"
  }
 },
 "nbformat": 4,
 "nbformat_minor": 4
}
